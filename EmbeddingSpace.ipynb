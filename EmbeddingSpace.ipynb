{
 "cells": [
  {
   "cell_type": "code",
   "execution_count": 1,
   "id": "e16493b6",
   "metadata": {},
   "outputs": [],
   "source": [
    "import pandas as pd\n",
    "import numpy as np\n",
    "from tensorflow.keras.models import Sequential , Model\n",
    "from tensorflow.keras.layers import Embedding, GlobalAveragePooling1D,Dense\n"
   ]
  },
  {
   "cell_type": "code",
   "execution_count": 2,
   "id": "e02ed1dd",
   "metadata": {},
   "outputs": [
    {
     "data": {
      "text/plain": [
       "array([ 1, 17, 15, 13, 21, 20, 18, 22, 25, 28, 30, 23, 26, 32, 27, 31, 19,\n",
       "       10, 24, 29, 11,  9, 16, 14, 12,  6,  8,  2,  5, 33,  7,  3,  4, 36,\n",
       "       34, 35], dtype=int64)"
      ]
     },
     "execution_count": 2,
     "metadata": {},
     "output_type": "execute_result"
    }
   ],
   "source": [
    "src='D:/MUSIC/Experiment1/Data/all_middle_columns.txt'\n",
    "df = pd.read_csv(src, header=None)\n",
    "unique_values = df[0].unique()\n",
    "unique_values"
   ]
  },
  {
   "cell_type": "code",
   "execution_count": 3,
   "id": "309b9392",
   "metadata": {},
   "outputs": [
    {
     "name": "stdout",
     "output_type": "stream",
     "text": [
      "3567259\n"
     ]
    },
    {
     "data": {
      "text/plain": [
       "array([[1, 0, 0, ..., 0, 0, 0],\n",
       "       [0, 0, 0, ..., 0, 0, 0],\n",
       "       [0, 0, 0, ..., 0, 0, 0],\n",
       "       ...,\n",
       "       [0, 0, 0, ..., 0, 0, 0],\n",
       "       [0, 0, 0, ..., 0, 0, 0],\n",
       "       [0, 0, 0, ..., 0, 0, 0]], dtype=uint8)"
      ]
     },
     "execution_count": 3,
     "metadata": {},
     "output_type": "execute_result"
    }
   ],
   "source": [
    "one_hot_encoding = pd.get_dummies(df[0], prefix='one_hot')\n",
    "one_hot_array = one_hot_encoding.to_numpy()\n",
    "print(len(one_hot_array))   # Total rows of all_middle_column.txt\n",
    "one_hot_array\n"
   ]
  },
  {
   "cell_type": "code",
   "execution_count": 4,
   "id": "1a039855",
   "metadata": {},
   "outputs": [
    {
     "data": {
      "text/html": [
       "<div>\n",
       "<style scoped>\n",
       "    .dataframe tbody tr th:only-of-type {\n",
       "        vertical-align: middle;\n",
       "    }\n",
       "\n",
       "    .dataframe tbody tr th {\n",
       "        vertical-align: top;\n",
       "    }\n",
       "\n",
       "    .dataframe thead th {\n",
       "        text-align: right;\n",
       "    }\n",
       "</style>\n",
       "<table border=\"1\" class=\"dataframe\">\n",
       "  <thead>\n",
       "    <tr style=\"text-align: right;\">\n",
       "      <th></th>\n",
       "      <th>number</th>\n",
       "      <th>one_hot_array</th>\n",
       "    </tr>\n",
       "  </thead>\n",
       "  <tbody>\n",
       "    <tr>\n",
       "      <th>0</th>\n",
       "      <td>1</td>\n",
       "      <td>[1, 0, 0, 0, 0, 0, 0, 0, 0, 0, 0, 0, 0, 0, 0, ...</td>\n",
       "    </tr>\n",
       "    <tr>\n",
       "      <th>1</th>\n",
       "      <td>17</td>\n",
       "      <td>[0, 0, 0, 0, 0, 0, 0, 0, 0, 0, 0, 0, 0, 0, 0, ...</td>\n",
       "    </tr>\n",
       "    <tr>\n",
       "      <th>2</th>\n",
       "      <td>15</td>\n",
       "      <td>[0, 0, 0, 0, 0, 0, 0, 0, 0, 0, 0, 0, 0, 0, 1, ...</td>\n",
       "    </tr>\n",
       "    <tr>\n",
       "      <th>3</th>\n",
       "      <td>15</td>\n",
       "      <td>[0, 0, 0, 0, 0, 0, 0, 0, 0, 0, 0, 0, 0, 0, 1, ...</td>\n",
       "    </tr>\n",
       "    <tr>\n",
       "      <th>4</th>\n",
       "      <td>15</td>\n",
       "      <td>[0, 0, 0, 0, 0, 0, 0, 0, 0, 0, 0, 0, 0, 0, 1, ...</td>\n",
       "    </tr>\n",
       "    <tr>\n",
       "      <th>...</th>\n",
       "      <td>...</td>\n",
       "      <td>...</td>\n",
       "    </tr>\n",
       "    <tr>\n",
       "      <th>3567254</th>\n",
       "      <td>25</td>\n",
       "      <td>[0, 0, 0, 0, 0, 0, 0, 0, 0, 0, 0, 0, 0, 0, 0, ...</td>\n",
       "    </tr>\n",
       "    <tr>\n",
       "      <th>3567255</th>\n",
       "      <td>25</td>\n",
       "      <td>[0, 0, 0, 0, 0, 0, 0, 0, 0, 0, 0, 0, 0, 0, 0, ...</td>\n",
       "    </tr>\n",
       "    <tr>\n",
       "      <th>3567256</th>\n",
       "      <td>25</td>\n",
       "      <td>[0, 0, 0, 0, 0, 0, 0, 0, 0, 0, 0, 0, 0, 0, 0, ...</td>\n",
       "    </tr>\n",
       "    <tr>\n",
       "      <th>3567257</th>\n",
       "      <td>25</td>\n",
       "      <td>[0, 0, 0, 0, 0, 0, 0, 0, 0, 0, 0, 0, 0, 0, 0, ...</td>\n",
       "    </tr>\n",
       "    <tr>\n",
       "      <th>3567258</th>\n",
       "      <td>10</td>\n",
       "      <td>[0, 0, 0, 0, 0, 0, 0, 0, 0, 1, 0, 0, 0, 0, 0, ...</td>\n",
       "    </tr>\n",
       "  </tbody>\n",
       "</table>\n",
       "<p>3567259 rows × 2 columns</p>\n",
       "</div>"
      ],
      "text/plain": [
       "         number                                      one_hot_array\n",
       "0             1  [1, 0, 0, 0, 0, 0, 0, 0, 0, 0, 0, 0, 0, 0, 0, ...\n",
       "1            17  [0, 0, 0, 0, 0, 0, 0, 0, 0, 0, 0, 0, 0, 0, 0, ...\n",
       "2            15  [0, 0, 0, 0, 0, 0, 0, 0, 0, 0, 0, 0, 0, 0, 1, ...\n",
       "3            15  [0, 0, 0, 0, 0, 0, 0, 0, 0, 0, 0, 0, 0, 0, 1, ...\n",
       "4            15  [0, 0, 0, 0, 0, 0, 0, 0, 0, 0, 0, 0, 0, 0, 1, ...\n",
       "...         ...                                                ...\n",
       "3567254      25  [0, 0, 0, 0, 0, 0, 0, 0, 0, 0, 0, 0, 0, 0, 0, ...\n",
       "3567255      25  [0, 0, 0, 0, 0, 0, 0, 0, 0, 0, 0, 0, 0, 0, 0, ...\n",
       "3567256      25  [0, 0, 0, 0, 0, 0, 0, 0, 0, 0, 0, 0, 0, 0, 0, ...\n",
       "3567257      25  [0, 0, 0, 0, 0, 0, 0, 0, 0, 0, 0, 0, 0, 0, 0, ...\n",
       "3567258      10  [0, 0, 0, 0, 0, 0, 0, 0, 0, 1, 0, 0, 0, 0, 0, ...\n",
       "\n",
       "[3567259 rows x 2 columns]"
      ]
     },
     "execution_count": 4,
     "metadata": {},
     "output_type": "execute_result"
    }
   ],
   "source": [
    "result_df = pd.DataFrame({\n",
    "    'number': df[0],\n",
    "    'one_hot_array': list(one_hot_array)\n",
    "})\n",
    "result_df"
   ]
  },
  {
   "cell_type": "code",
   "execution_count": 5,
   "id": "90d5c34c",
   "metadata": {},
   "outputs": [],
   "source": [
    "# Deep Autoencoder Model\n",
    "model = Sequential()\n",
    "model.add(Dense(128, activation='relu', input_dim=36))\n",
    "model.add(Dense(64, activation='relu'))\n",
    "model.add(Dense(32, activation='relu'))\n",
    "model.add(Dense(20, activation='linear'))   # Compressed Representation\n",
    "model.add(Dense(32, activation='relu'))\n",
    "model.add(Dense(64, activation='relu'))\n",
    "model.add(Dense(128, activation='relu'))\n",
    "model.add(Dense(36, activation='linear'))  # Output layer (Reconstruction)\n",
    "\n",
    "# Compile the model\n",
    "model.compile(optimizer='adam', loss='mean_squared_error', metrics=['accuracy'])\n"
   ]
  },
  {
   "cell_type": "code",
   "execution_count": 6,
   "id": "9bb48683",
   "metadata": {},
   "outputs": [
    {
     "name": "stdout",
     "output_type": "stream",
     "text": [
      "Epoch 1/3\n",
      "1394/1394 [==============================] - 10s 6ms/step - loss: 8.4905e-04 - accuracy: 0.9820 - val_loss: 8.8771e-06 - val_accuracy: 1.0000\n",
      "Epoch 2/3\n",
      "1394/1394 [==============================] - 8s 6ms/step - loss: 6.7674e-06 - accuracy: 1.0000 - val_loss: 1.0500e-06 - val_accuracy: 1.0000\n",
      "Epoch 3/3\n",
      "1394/1394 [==============================] - 8s 6ms/step - loss: 3.3994e-06 - accuracy: 1.0000 - val_loss: 1.2791e-06 - val_accuracy: 1.0000\n"
     ]
    }
   ],
   "source": [
    "\n",
    "# Train the model\n",
    "history = model.fit(one_hot_array, one_hot_array, epochs=3, batch_size=2048, validation_split=0.2)"
   ]
  },
  {
   "cell_type": "code",
   "execution_count": 7,
   "id": "12624220",
   "metadata": {},
   "outputs": [],
   "source": [
    "# Create a separate model for encoding\n",
    "encoder_model = Model(inputs=model.input, outputs=model.layers[3].output)  # 3 is the index of the Dense layer producing the 20-dimensional representation\n"
   ]
  },
  {
   "cell_type": "code",
   "execution_count": 8,
   "id": "5247a338",
   "metadata": {},
   "outputs": [
    {
     "name": "stdout",
     "output_type": "stream",
     "text": [
      "111477/111477 [==============================] - 174s 2ms/step\n"
     ]
    }
   ],
   "source": [
    "# Get the 20-dimensional representation for the one-hot encoded values\n",
    "compressed_representation = encoder_model.predict(one_hot_array)\n"
   ]
  },
  {
   "cell_type": "code",
   "execution_count": 9,
   "id": "0a72b286",
   "metadata": {},
   "outputs": [
    {
     "data": {
      "text/plain": [
       "array([[-0.10127017,  0.6276878 , -0.2304985 , ..., -0.07569699,\n",
       "         0.3630725 ,  0.30167994],\n",
       "       [-0.37960494, -0.14833532, -0.52255756, ..., -0.74025387,\n",
       "         0.03366599, -0.46558374],\n",
       "       [-0.5309924 ,  0.44658208, -0.5495173 , ..., -0.10127866,\n",
       "         0.5276253 , -0.62219745],\n",
       "       ...,\n",
       "       [ 0.18206084, -0.05352962, -0.15013953, ...,  0.33075094,\n",
       "         0.04383871, -0.19563277],\n",
       "       [ 0.18206084, -0.05352962, -0.15013953, ...,  0.33075094,\n",
       "         0.04383871, -0.19563277],\n",
       "       [-0.34890074,  0.71919864,  0.6039907 , ...,  0.76769215,\n",
       "         0.809384  , -0.2316356 ]], dtype=float32)"
      ]
     },
     "execution_count": 9,
     "metadata": {},
     "output_type": "execute_result"
    }
   ],
   "source": [
    "compressed_representation"
   ]
  },
  {
   "cell_type": "code",
   "execution_count": 10,
   "id": "87f1a21e",
   "metadata": {},
   "outputs": [
    {
     "data": {
      "text/plain": [
       "(3567259, 20)"
      ]
     },
     "execution_count": 10,
     "metadata": {},
     "output_type": "execute_result"
    }
   ],
   "source": [
    "len(compressed_representation),len(compressed_representation[0])"
   ]
  },
  {
   "cell_type": "code",
   "execution_count": 12,
   "id": "53c344ef",
   "metadata": {},
   "outputs": [
    {
     "data": {
      "text/html": [
       "<div>\n",
       "<style scoped>\n",
       "    .dataframe tbody tr th:only-of-type {\n",
       "        vertical-align: middle;\n",
       "    }\n",
       "\n",
       "    .dataframe tbody tr th {\n",
       "        vertical-align: top;\n",
       "    }\n",
       "\n",
       "    .dataframe thead th {\n",
       "        text-align: right;\n",
       "    }\n",
       "</style>\n",
       "<table border=\"1\" class=\"dataframe\">\n",
       "  <thead>\n",
       "    <tr style=\"text-align: right;\">\n",
       "      <th></th>\n",
       "      <th>number</th>\n",
       "      <th>one_hot_array</th>\n",
       "      <th>compressed_array</th>\n",
       "    </tr>\n",
       "  </thead>\n",
       "  <tbody>\n",
       "    <tr>\n",
       "      <th>0</th>\n",
       "      <td>1</td>\n",
       "      <td>[1, 0, 0, 0, 0, 0, 0, 0, 0, 0, 0, 0, 0, 0, 0, ...</td>\n",
       "      <td>[-0.1012701690196991, 0.6276878118515015, -0.2...</td>\n",
       "    </tr>\n",
       "    <tr>\n",
       "      <th>1</th>\n",
       "      <td>17</td>\n",
       "      <td>[0, 0, 0, 0, 0, 0, 0, 0, 0, 0, 0, 0, 0, 0, 0, ...</td>\n",
       "      <td>[-0.37960493564605713, -0.1483353227376938, -0...</td>\n",
       "    </tr>\n",
       "    <tr>\n",
       "      <th>2</th>\n",
       "      <td>15</td>\n",
       "      <td>[0, 0, 0, 0, 0, 0, 0, 0, 0, 0, 0, 0, 0, 0, 1, ...</td>\n",
       "      <td>[-0.5309923887252808, 0.4465820789337158, -0.5...</td>\n",
       "    </tr>\n",
       "    <tr>\n",
       "      <th>3</th>\n",
       "      <td>15</td>\n",
       "      <td>[0, 0, 0, 0, 0, 0, 0, 0, 0, 0, 0, 0, 0, 0, 1, ...</td>\n",
       "      <td>[-0.5309923887252808, 0.4465820789337158, -0.5...</td>\n",
       "    </tr>\n",
       "    <tr>\n",
       "      <th>4</th>\n",
       "      <td>15</td>\n",
       "      <td>[0, 0, 0, 0, 0, 0, 0, 0, 0, 0, 0, 0, 0, 0, 1, ...</td>\n",
       "      <td>[-0.5309923887252808, 0.4465820789337158, -0.5...</td>\n",
       "    </tr>\n",
       "    <tr>\n",
       "      <th>...</th>\n",
       "      <td>...</td>\n",
       "      <td>...</td>\n",
       "      <td>...</td>\n",
       "    </tr>\n",
       "    <tr>\n",
       "      <th>3567254</th>\n",
       "      <td>25</td>\n",
       "      <td>[0, 0, 0, 0, 0, 0, 0, 0, 0, 0, 0, 0, 0, 0, 0, ...</td>\n",
       "      <td>[0.1820608377456665, -0.05352962017059326, -0....</td>\n",
       "    </tr>\n",
       "    <tr>\n",
       "      <th>3567255</th>\n",
       "      <td>25</td>\n",
       "      <td>[0, 0, 0, 0, 0, 0, 0, 0, 0, 0, 0, 0, 0, 0, 0, ...</td>\n",
       "      <td>[0.1820608377456665, -0.05352962017059326, -0....</td>\n",
       "    </tr>\n",
       "    <tr>\n",
       "      <th>3567256</th>\n",
       "      <td>25</td>\n",
       "      <td>[0, 0, 0, 0, 0, 0, 0, 0, 0, 0, 0, 0, 0, 0, 0, ...</td>\n",
       "      <td>[0.1820608377456665, -0.05352962017059326, -0....</td>\n",
       "    </tr>\n",
       "    <tr>\n",
       "      <th>3567257</th>\n",
       "      <td>25</td>\n",
       "      <td>[0, 0, 0, 0, 0, 0, 0, 0, 0, 0, 0, 0, 0, 0, 0, ...</td>\n",
       "      <td>[0.1820608377456665, -0.05352962017059326, -0....</td>\n",
       "    </tr>\n",
       "    <tr>\n",
       "      <th>3567258</th>\n",
       "      <td>10</td>\n",
       "      <td>[0, 0, 0, 0, 0, 0, 0, 0, 0, 1, 0, 0, 0, 0, 0, ...</td>\n",
       "      <td>[-0.3489007353782654, 0.7191986441612244, 0.60...</td>\n",
       "    </tr>\n",
       "  </tbody>\n",
       "</table>\n",
       "<p>3567259 rows × 3 columns</p>\n",
       "</div>"
      ],
      "text/plain": [
       "         number                                      one_hot_array  \\\n",
       "0             1  [1, 0, 0, 0, 0, 0, 0, 0, 0, 0, 0, 0, 0, 0, 0, ...   \n",
       "1            17  [0, 0, 0, 0, 0, 0, 0, 0, 0, 0, 0, 0, 0, 0, 0, ...   \n",
       "2            15  [0, 0, 0, 0, 0, 0, 0, 0, 0, 0, 0, 0, 0, 0, 1, ...   \n",
       "3            15  [0, 0, 0, 0, 0, 0, 0, 0, 0, 0, 0, 0, 0, 0, 1, ...   \n",
       "4            15  [0, 0, 0, 0, 0, 0, 0, 0, 0, 0, 0, 0, 0, 0, 1, ...   \n",
       "...         ...                                                ...   \n",
       "3567254      25  [0, 0, 0, 0, 0, 0, 0, 0, 0, 0, 0, 0, 0, 0, 0, ...   \n",
       "3567255      25  [0, 0, 0, 0, 0, 0, 0, 0, 0, 0, 0, 0, 0, 0, 0, ...   \n",
       "3567256      25  [0, 0, 0, 0, 0, 0, 0, 0, 0, 0, 0, 0, 0, 0, 0, ...   \n",
       "3567257      25  [0, 0, 0, 0, 0, 0, 0, 0, 0, 0, 0, 0, 0, 0, 0, ...   \n",
       "3567258      10  [0, 0, 0, 0, 0, 0, 0, 0, 0, 1, 0, 0, 0, 0, 0, ...   \n",
       "\n",
       "                                          compressed_array  \n",
       "0        [-0.1012701690196991, 0.6276878118515015, -0.2...  \n",
       "1        [-0.37960493564605713, -0.1483353227376938, -0...  \n",
       "2        [-0.5309923887252808, 0.4465820789337158, -0.5...  \n",
       "3        [-0.5309923887252808, 0.4465820789337158, -0.5...  \n",
       "4        [-0.5309923887252808, 0.4465820789337158, -0.5...  \n",
       "...                                                    ...  \n",
       "3567254  [0.1820608377456665, -0.05352962017059326, -0....  \n",
       "3567255  [0.1820608377456665, -0.05352962017059326, -0....  \n",
       "3567256  [0.1820608377456665, -0.05352962017059326, -0....  \n",
       "3567257  [0.1820608377456665, -0.05352962017059326, -0....  \n",
       "3567258  [-0.3489007353782654, 0.7191986441612244, 0.60...  \n",
       "\n",
       "[3567259 rows x 3 columns]"
      ]
     },
     "execution_count": 12,
     "metadata": {},
     "output_type": "execute_result"
    }
   ],
   "source": [
    "result_df['compressed_array'] = compressed_representation.tolist()\n",
    "result_df"
   ]
  },
  {
   "cell_type": "code",
   "execution_count": 13,
   "id": "34476163",
   "metadata": {},
   "outputs": [],
   "source": [
    "result_df.to_csv('Embedded.csv', index=False)"
   ]
  },
  {
   "cell_type": "code",
   "execution_count": 7,
   "id": "ce97b519",
   "metadata": {},
   "outputs": [],
   "source": [
    "# Create a separate model for the output layer\n",
    "output_model = Model(inputs=model.input, outputs=model.layers[-1].output)\n"
   ]
  },
  {
   "cell_type": "code",
   "execution_count": null,
   "id": "06d2b517",
   "metadata": {},
   "outputs": [],
   "source": [
    "# Get the one-hot encoded output for your data\n",
    "one_hot_output = output_model.predict(one_hot_array)"
   ]
  },
  {
   "cell_type": "code",
   "execution_count": null,
   "id": "846216ce",
   "metadata": {},
   "outputs": [],
   "source": []
  }
 ],
 "metadata": {
  "kernelspec": {
   "display_name": "Python 3 (ipykernel)",
   "language": "python",
   "name": "python3"
  },
  "language_info": {
   "codemirror_mode": {
    "name": "ipython",
    "version": 3
   },
   "file_extension": ".py",
   "mimetype": "text/x-python",
   "name": "python",
   "nbconvert_exporter": "python",
   "pygments_lexer": "ipython3",
   "version": "3.10.11"
  }
 },
 "nbformat": 4,
 "nbformat_minor": 5
}
